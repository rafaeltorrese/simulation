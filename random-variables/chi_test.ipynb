{
 "cells": [
  {
   "cell_type": "code",
   "execution_count": 9,
   "metadata": {},
   "outputs": [],
   "source": [
    "import numpy as np\n",
    "import pandas as pd\n",
    "\n",
    "import matplotlib.pyplot as plt"
   ]
  },
  {
   "cell_type": "code",
   "execution_count": 55,
   "metadata": {},
   "outputs": [],
   "source": [
    "import seaborn as sns"
   ]
  },
  {
   "cell_type": "code",
   "execution_count": 153,
   "metadata": {},
   "outputs": [],
   "source": [
    "from scipy.stats import gaussian_kde, norm"
   ]
  },
  {
   "cell_type": "code",
   "execution_count": null,
   "metadata": {},
   "outputs": [],
   "source": []
  },
  {
   "cell_type": "code",
   "execution_count": 7,
   "metadata": {},
   "outputs": [
    {
     "name": "stdout",
     "output_type": "stream",
     "text": [
      " Volume in drive E is RAFAEL01\n",
      " Volume Serial Number is 14FB-1CF6\n",
      "\n",
      " Directory of e:\\repositories\\lectures\\simulation\\random-variables\n",
      "\n",
      "10/08/2024  11:57 AM             1,350 311-caller-wait-time-pm-2-16-1.csv\n",
      "10/08/2024  12:08 PM           757,709 england-nhs-aande.csv\n",
      "10/08/2024  12:07 PM             1,885 job-center-wait-time-1.csv\n",
      "10/08/2024  12:18 PM            40,655 queue_data.csv\n",
      "               4 File(s)        801,599 bytes\n",
      "               0 Dir(s)  55,562,141,696 bytes free\n"
     ]
    }
   ],
   "source": [
    "%ls *.csv"
   ]
  },
  {
   "cell_type": "code",
   "execution_count": 10,
   "metadata": {},
   "outputs": [
    {
     "data": {
      "text/html": [
       "<div>\n",
       "<style scoped>\n",
       "    .dataframe tbody tr th:only-of-type {\n",
       "        vertical-align: middle;\n",
       "    }\n",
       "\n",
       "    .dataframe tbody tr th {\n",
       "        vertical-align: top;\n",
       "    }\n",
       "\n",
       "    .dataframe thead th {\n",
       "        text-align: right;\n",
       "    }\n",
       "</style>\n",
       "<table border=\"1\" class=\"dataframe\">\n",
       "  <thead>\n",
       "    <tr style=\"text-align: right;\">\n",
       "      <th></th>\n",
       "      <th>arrival_time</th>\n",
       "      <th>start_time</th>\n",
       "      <th>finish_time</th>\n",
       "      <th>wait_time</th>\n",
       "      <th>queue_length</th>\n",
       "    </tr>\n",
       "  </thead>\n",
       "  <tbody>\n",
       "    <tr>\n",
       "      <th>0</th>\n",
       "      <td>30-03-2023 0.10</td>\n",
       "      <td>30-03-2023 0.10</td>\n",
       "      <td>2023-03-30 00:22:44.800000000</td>\n",
       "      <td>12.68</td>\n",
       "      <td>28</td>\n",
       "    </tr>\n",
       "    <tr>\n",
       "      <th>1</th>\n",
       "      <td>30-03-2023 0.10</td>\n",
       "      <td>30-03-2023 0.16</td>\n",
       "      <td>2023-03-30 00:25:53.200000000</td>\n",
       "      <td>9.82</td>\n",
       "      <td>28</td>\n",
       "    </tr>\n",
       "    <tr>\n",
       "      <th>2</th>\n",
       "      <td>30-03-2023 0.10</td>\n",
       "      <td>30-03-2023 0.16</td>\n",
       "      <td>2023-03-30 00:25:48.400000000</td>\n",
       "      <td>9.74</td>\n",
       "      <td>28</td>\n",
       "    </tr>\n",
       "    <tr>\n",
       "      <th>3</th>\n",
       "      <td>30-03-2023 0.10</td>\n",
       "      <td>30-03-2023 0.14</td>\n",
       "      <td>2023-03-30 00:27:23.200000000</td>\n",
       "      <td>13.32</td>\n",
       "      <td>28</td>\n",
       "    </tr>\n",
       "    <tr>\n",
       "      <th>4</th>\n",
       "      <td>30-03-2023 0.10</td>\n",
       "      <td>30-03-2023 0.15</td>\n",
       "      <td>2023-03-30 00:31:21.400000000</td>\n",
       "      <td>16.29</td>\n",
       "      <td>28</td>\n",
       "    </tr>\n",
       "  </tbody>\n",
       "</table>\n",
       "</div>"
      ],
      "text/plain": [
       "      arrival_time       start_time                    finish_time  wait_time  \\\n",
       "0  30-03-2023 0.10  30-03-2023 0.10  2023-03-30 00:22:44.800000000      12.68   \n",
       "1  30-03-2023 0.10  30-03-2023 0.16  2023-03-30 00:25:53.200000000       9.82   \n",
       "2  30-03-2023 0.10  30-03-2023 0.16  2023-03-30 00:25:48.400000000       9.74   \n",
       "3  30-03-2023 0.10  30-03-2023 0.14  2023-03-30 00:27:23.200000000      13.32   \n",
       "4  30-03-2023 0.10  30-03-2023 0.15  2023-03-30 00:31:21.400000000      16.29   \n",
       "\n",
       "   queue_length  \n",
       "0            28  \n",
       "1            28  \n",
       "2            28  \n",
       "3            28  \n",
       "4            28  "
      ]
     },
     "execution_count": 10,
     "metadata": {},
     "output_type": "execute_result"
    }
   ],
   "source": [
    "data = pd.read_csv('queue_data.csv')\n",
    "data.head()"
   ]
  },
  {
   "cell_type": "code",
   "execution_count": 11,
   "metadata": {},
   "outputs": [
    {
     "data": {
      "text/html": [
       "<div>\n",
       "<style scoped>\n",
       "    .dataframe tbody tr th:only-of-type {\n",
       "        vertical-align: middle;\n",
       "    }\n",
       "\n",
       "    .dataframe tbody tr th {\n",
       "        vertical-align: top;\n",
       "    }\n",
       "\n",
       "    .dataframe thead th {\n",
       "        text-align: right;\n",
       "    }\n",
       "</style>\n",
       "<table border=\"1\" class=\"dataframe\">\n",
       "  <thead>\n",
       "    <tr style=\"text-align: right;\">\n",
       "      <th></th>\n",
       "      <th>arrival_time</th>\n",
       "      <th>start_time</th>\n",
       "      <th>finish_time</th>\n",
       "      <th>wait_time</th>\n",
       "      <th>queue_length</th>\n",
       "    </tr>\n",
       "  </thead>\n",
       "  <tbody>\n",
       "    <tr>\n",
       "      <th>555</th>\n",
       "      <td>30-03-2023 22.00</td>\n",
       "      <td>30-03-2023 22.02</td>\n",
       "      <td>2023-03-30 22:16:59.800000000</td>\n",
       "      <td>14.83</td>\n",
       "      <td>12</td>\n",
       "    </tr>\n",
       "    <tr>\n",
       "      <th>556</th>\n",
       "      <td>30-03-2023 22.00</td>\n",
       "      <td>30-03-2023 22.10</td>\n",
       "      <td>2023-03-30 22:13:56.200000000</td>\n",
       "      <td>3.77</td>\n",
       "      <td>12</td>\n",
       "    </tr>\n",
       "    <tr>\n",
       "      <th>557</th>\n",
       "      <td>30-03-2023 22.00</td>\n",
       "      <td>30-03-2023 22.00</td>\n",
       "      <td>2023-03-30 22:05:35.799999999</td>\n",
       "      <td>5.43</td>\n",
       "      <td>12</td>\n",
       "    </tr>\n",
       "    <tr>\n",
       "      <th>558</th>\n",
       "      <td>30-03-2023 23.54</td>\n",
       "      <td>30-03-2023 23.54</td>\n",
       "      <td>2023-03-31 00:00:42.400000000</td>\n",
       "      <td>5.74</td>\n",
       "      <td>2</td>\n",
       "    </tr>\n",
       "    <tr>\n",
       "      <th>559</th>\n",
       "      <td>30-03-2023 23.54</td>\n",
       "      <td>30-03-2023 23.58</td>\n",
       "      <td>2023-03-31 00:17:23.200000000</td>\n",
       "      <td>18.42</td>\n",
       "      <td>2</td>\n",
       "    </tr>\n",
       "  </tbody>\n",
       "</table>\n",
       "</div>"
      ],
      "text/plain": [
       "         arrival_time        start_time                    finish_time  \\\n",
       "555  30-03-2023 22.00  30-03-2023 22.02  2023-03-30 22:16:59.800000000   \n",
       "556  30-03-2023 22.00  30-03-2023 22.10  2023-03-30 22:13:56.200000000   \n",
       "557  30-03-2023 22.00  30-03-2023 22.00  2023-03-30 22:05:35.799999999   \n",
       "558  30-03-2023 23.54  30-03-2023 23.54  2023-03-31 00:00:42.400000000   \n",
       "559  30-03-2023 23.54  30-03-2023 23.58  2023-03-31 00:17:23.200000000   \n",
       "\n",
       "     wait_time  queue_length  \n",
       "555      14.83            12  \n",
       "556       3.77            12  \n",
       "557       5.43            12  \n",
       "558       5.74             2  \n",
       "559      18.42             2  "
      ]
     },
     "execution_count": 11,
     "metadata": {},
     "output_type": "execute_result"
    }
   ],
   "source": [
    "data.tail()"
   ]
  },
  {
   "cell_type": "code",
   "execution_count": 16,
   "metadata": {},
   "outputs": [],
   "source": [
    "arrival_time = data['arrival_time'].str.split(expand=True)[1].unique()"
   ]
  },
  {
   "cell_type": "code",
   "execution_count": 17,
   "metadata": {},
   "outputs": [
    {
     "name": "stdout",
     "output_type": "stream",
     "text": [
      "<class 'pandas.core.frame.DataFrame'>\n",
      "RangeIndex: 560 entries, 0 to 559\n",
      "Data columns (total 5 columns):\n",
      " #   Column        Non-Null Count  Dtype  \n",
      "---  ------        --------------  -----  \n",
      " 0   arrival_time  560 non-null    object \n",
      " 1   start_time    560 non-null    object \n",
      " 2   finish_time   560 non-null    object \n",
      " 3   wait_time     560 non-null    float64\n",
      " 4   queue_length  560 non-null    int64  \n",
      "dtypes: float64(1), int64(1), object(3)\n",
      "memory usage: 22.0+ KB\n"
     ]
    }
   ],
   "source": [
    "data.info()"
   ]
  },
  {
   "cell_type": "code",
   "execution_count": 44,
   "metadata": {},
   "outputs": [
    {
     "data": {
      "image/png": "[encoded data removed]",
      "text/plain": [
       "<Figure size 640x480 with 1 Axes>"
      ]
     },
     "metadata": {},
     "output_type": "display_data"
    }
   ],
   "source": [
    "data['wait_time'].hist(bins=24)\n",
    "plt.show()"
   ]
  },
  {
   "cell_type": "code",
   "execution_count": 196,
   "metadata": {},
   "outputs": [
    {
     "name": "stdout",
     "output_type": "stream",
     "text": [
      "24\n",
      "25\n",
      "560\n",
      "24\n",
      "[ 2.85175269  4.94085345  8.05114517 12.33897021 17.78548639 24.11116249\n",
      " 30.74228369 36.86546147 41.57849794 44.10455962 44.00112259 41.28664528\n",
      " 36.43518743 30.24112843 23.6069864  17.33199998 11.9680221   7.77251659\n",
      "  4.74751675  2.7273252   1.47357729  0.74881491  0.35788346  0.16086973]\n"
     ]
    },
    {
     "data": {
      "image/png": "[encoded data removed]",
      "text/plain": [
       "<Figure size 640x480 with 1 Axes>"
      ]
     },
     "metadata": {},
     "output_type": "display_data"
    }
   ],
   "source": [
    "values, bins01, _ = plt.hist(\n",
    "    data['wait_time'],\n",
    "    bins=24,\n",
    "    # density=True\n",
    ")\n",
    "\n",
    "pdf01 = norm.pdf(\n",
    "    # (bins01[1:] + bins01[:-1]) / 2,\n",
    "    bins01[1:],\n",
    "    loc=data['wait_time'].mean(),\n",
    "    scale=data['wait_time'].std(),\n",
    ")\n",
    "\n",
    "# print(values)\n",
    "print(values.size)\n",
    "print(bins01.size)\n",
    "print(data['wait_time'].size)\n",
    "\n",
    "# print(pdf01)\n",
    "expected = pdf01 * data['wait_time'].size\n",
    "# print(values)\n",
    "print(expected.size)\n",
    "print(expected)"
   ]
  },
  {
   "cell_type": "code",
   "execution_count": 197,
   "metadata": {},
   "outputs": [
    {
     "ename": "ValueError",
     "evalue": "For each axis slice, the sum of the observed frequencies must agree with the sum of the expected frequencies to a relative tolerance of 1e-08, but the percent differences are:\n0.25495885426581527",
     "output_type": "error",
     "traceback": [
      "\u001b[1;31m---------------------------------------------------------------------------\u001b[0m",
      "\u001b[1;31mValueError\u001b[0m                                Traceback (most recent call last)",
      "Cell \u001b[1;32mIn[197], line 5\u001b[0m\n\u001b[0;32m      1\u001b[0m \u001b[38;5;28;01mfrom\u001b[39;00m \u001b[38;5;21;01mscipy\u001b[39;00m\u001b[38;5;21;01m.\u001b[39;00m\u001b[38;5;21;01mstats\u001b[39;00m \u001b[38;5;28;01mimport\u001b[39;00m chisquare\n\u001b[0;32m      2\u001b[0m \u001b[38;5;66;03m# Frecuencias observadas y esperadas (ejemplo con 4 bins)\u001b[39;00m\n\u001b[1;32m----> 5\u001b[0m chi2_stat, p_value \u001b[38;5;241m=\u001b[39m \u001b[43mchisquare\u001b[49m\u001b[43m(\u001b[49m\u001b[43mvalues\u001b[49m\u001b[43m,\u001b[49m\u001b[43m \u001b[49m\u001b[43mf_exp\u001b[49m\u001b[38;5;241;43m=\u001b[39;49m\u001b[43mexpected\u001b[49m\u001b[43m)\u001b[49m\n\u001b[0;32m      6\u001b[0m \u001b[38;5;28mprint\u001b[39m(\u001b[38;5;124m\"\u001b[39m\u001b[38;5;124mEstadístico Chi-cuadrado:\u001b[39m\u001b[38;5;124m\"\u001b[39m, chi2_stat, \u001b[38;5;124m\"\u001b[39m\u001b[38;5;124mP-value:\u001b[39m\u001b[38;5;124m\"\u001b[39m, p_value)\n",
      "File \u001b[1;32mc:\\Users\\rafael.torrese\\AppData\\Local\\miniconda3\\envs\\data\\lib\\site-packages\\scipy\\stats\\_stats_py.py:7558\u001b[0m, in \u001b[0;36mchisquare\u001b[1;34m(f_obs, f_exp, ddof, axis)\u001b[0m\n\u001b[0;32m   7433\u001b[0m \u001b[38;5;28;01mdef\u001b[39;00m \u001b[38;5;21mchisquare\u001b[39m(f_obs, f_exp\u001b[38;5;241m=\u001b[39m\u001b[38;5;28;01mNone\u001b[39;00m, ddof\u001b[38;5;241m=\u001b[39m\u001b[38;5;241m0\u001b[39m, axis\u001b[38;5;241m=\u001b[39m\u001b[38;5;241m0\u001b[39m):\n\u001b[0;32m   7434\u001b[0m     \u001b[38;5;124;03m\"\"\"Calculate a one-way chi-square test.\u001b[39;00m\n\u001b[0;32m   7435\u001b[0m \n\u001b[0;32m   7436\u001b[0m \u001b[38;5;124;03m    The chi-square test tests the null hypothesis that the categorical data\u001b[39;00m\n\u001b[1;32m   (...)\u001b[0m\n\u001b[0;32m   7556\u001b[0m \n\u001b[0;32m   7557\u001b[0m \u001b[38;5;124;03m    \"\"\"\u001b[39;00m\n\u001b[1;32m-> 7558\u001b[0m     \u001b[38;5;28;01mreturn\u001b[39;00m \u001b[43mpower_divergence\u001b[49m\u001b[43m(\u001b[49m\u001b[43mf_obs\u001b[49m\u001b[43m,\u001b[49m\u001b[43m \u001b[49m\u001b[43mf_exp\u001b[49m\u001b[38;5;241;43m=\u001b[39;49m\u001b[43mf_exp\u001b[49m\u001b[43m,\u001b[49m\u001b[43m \u001b[49m\u001b[43mddof\u001b[49m\u001b[38;5;241;43m=\u001b[39;49m\u001b[43mddof\u001b[49m\u001b[43m,\u001b[49m\u001b[43m \u001b[49m\u001b[43maxis\u001b[49m\u001b[38;5;241;43m=\u001b[39;49m\u001b[43maxis\u001b[49m\u001b[43m,\u001b[49m\n\u001b[0;32m   7559\u001b[0m \u001b[43m                            \u001b[49m\u001b[43mlambda_\u001b[49m\u001b[38;5;241;43m=\u001b[39;49m\u001b[38;5;124;43m\"\u001b[39;49m\u001b[38;5;124;43mpearson\u001b[39;49m\u001b[38;5;124;43m\"\u001b[39;49m\u001b[43m)\u001b[49m\n",
      "File \u001b[1;32mc:\\Users\\rafael.torrese\\AppData\\Local\\miniconda3\\envs\\data\\lib\\site-packages\\scipy\\stats\\_stats_py.py:7399\u001b[0m, in \u001b[0;36mpower_divergence\u001b[1;34m(f_obs, f_exp, ddof, axis, lambda_)\u001b[0m\n\u001b[0;32m   7393\u001b[0m     \u001b[38;5;28;01mif\u001b[39;00m diff_gt_tol:\n\u001b[0;32m   7394\u001b[0m         msg \u001b[38;5;241m=\u001b[39m (\u001b[38;5;124mf\u001b[39m\u001b[38;5;124m\"\u001b[39m\u001b[38;5;124mFor each axis slice, the sum of the observed \u001b[39m\u001b[38;5;124m\"\u001b[39m\n\u001b[0;32m   7395\u001b[0m                \u001b[38;5;124mf\u001b[39m\u001b[38;5;124m\"\u001b[39m\u001b[38;5;124mfrequencies must agree with the sum of the \u001b[39m\u001b[38;5;124m\"\u001b[39m\n\u001b[0;32m   7396\u001b[0m                \u001b[38;5;124mf\u001b[39m\u001b[38;5;124m\"\u001b[39m\u001b[38;5;124mexpected frequencies to a relative tolerance \u001b[39m\u001b[38;5;124m\"\u001b[39m\n\u001b[0;32m   7397\u001b[0m                \u001b[38;5;124mf\u001b[39m\u001b[38;5;124m\"\u001b[39m\u001b[38;5;124mof \u001b[39m\u001b[38;5;132;01m{\u001b[39;00mrtol\u001b[38;5;132;01m}\u001b[39;00m\u001b[38;5;124m, but the percent differences are:\u001b[39m\u001b[38;5;130;01m\\n\u001b[39;00m\u001b[38;5;124m\"\u001b[39m\n\u001b[0;32m   7398\u001b[0m                \u001b[38;5;124mf\u001b[39m\u001b[38;5;124m\"\u001b[39m\u001b[38;5;132;01m{\u001b[39;00mrelative_diff\u001b[38;5;132;01m}\u001b[39;00m\u001b[38;5;124m\"\u001b[39m)\n\u001b[1;32m-> 7399\u001b[0m         \u001b[38;5;28;01mraise\u001b[39;00m \u001b[38;5;167;01mValueError\u001b[39;00m(msg)\n\u001b[0;32m   7401\u001b[0m \u001b[38;5;28;01melse\u001b[39;00m:\n\u001b[0;32m   7402\u001b[0m     \u001b[38;5;66;03m# Ignore 'invalid' errors so the edge case of a data set with length 0\u001b[39;00m\n\u001b[0;32m   7403\u001b[0m     \u001b[38;5;66;03m# is handled without spurious warnings.\u001b[39;00m\n\u001b[0;32m   7404\u001b[0m     \u001b[38;5;28;01mwith\u001b[39;00m np\u001b[38;5;241m.\u001b[39merrstate(invalid\u001b[38;5;241m=\u001b[39m\u001b[38;5;124m'\u001b[39m\u001b[38;5;124mignore\u001b[39m\u001b[38;5;124m'\u001b[39m):\n",
      "\u001b[1;31mValueError\u001b[0m: For each axis slice, the sum of the observed frequencies must agree with the sum of the expected frequencies to a relative tolerance of 1e-08, but the percent differences are:\n0.25495885426581527"
     ]
    }
   ],
   "source": [
    "\n",
    "from scipy.stats import chisquare\n",
    "# Frecuencias observadas y esperadas (ejemplo con 4 bins)\n",
    "\n",
    "\n",
    "chi2_stat, p_value = chisquare(values, f_exp=expected)\n",
    "print(\"Estadístico Chi-cuadrado:\", chi2_stat, \"P-value:\", p_value)"
   ]
  },
  {
   "cell_type": "code",
   "execution_count": 21,
   "metadata": {},
   "outputs": [
    {
     "data": {
      "text/plain": [
       "count    560.000000\n",
       "mean      10.107911\n",
       "std        5.032406\n",
       "min       -2.930000\n",
       "25%        6.527500\n",
       "50%       10.120000\n",
       "75%       13.322500\n",
       "max       26.980000\n",
       "Name: wait_time, dtype: float64"
      ]
     },
     "execution_count": 21,
     "metadata": {},
     "output_type": "execute_result"
    }
   ],
   "source": [
    "data['wait_time'].describe()"
   ]
  },
  {
   "cell_type": "code",
   "execution_count": 26,
   "metadata": {},
   "outputs": [
    {
     "name": "stdout",
     "output_type": "stream",
     "text": [
      "13\n"
     ]
    }
   ],
   "source": [
    "negs_mask = data['wait_time'] < 0\n",
    "print(data.loc[negs_mask, 'wait_time'].size )"
   ]
  },
  {
   "cell_type": "code",
   "execution_count": 31,
   "metadata": {},
   "outputs": [
    {
     "data": {
      "text/plain": [
       "False    0.98\n",
       "True     0.02\n",
       "Name: wait_time, dtype: float64"
      ]
     },
     "execution_count": 31,
     "metadata": {},
     "output_type": "execute_result"
    }
   ],
   "source": [
    "negs_mask.value_counts(normalize=True).round(2)"
   ]
  },
  {
   "cell_type": "code",
   "execution_count": 165,
   "metadata": {},
   "outputs": [
    {
     "data": {
      "text/plain": [
       "(0.312, 1.498]      12\n",
       "(1.498, 2.657]      17\n",
       "(2.657, 3.815]      20\n",
       "(3.815, 4.973]      27\n",
       "(4.973, 6.131]      35\n",
       "(6.131, 7.29]       38\n",
       "(7.29, 8.448]       42\n",
       "(8.448, 9.606]      52\n",
       "(9.606, 10.764]     48\n",
       "(10.764, 11.923]    44\n",
       "(11.923, 13.081]    62\n",
       "(13.081, 14.239]    41\n",
       "(14.239, 15.397]    34\n",
       "(15.397, 16.556]    19\n",
       "(16.556, 17.714]    18\n",
       "(17.714, 18.872]    16\n",
       "(18.872, 20.03]     10\n",
       "(20.03, 21.189]      4\n",
       "(21.189, 22.347]     4\n",
       "(22.347, 23.505]     1\n",
       "(23.505, 24.663]     2\n",
       "(24.663, 25.822]     0\n",
       "(25.822, 26.98]      1\n",
       "Name: wait_time, dtype: int64"
      ]
     },
     "execution_count": 165,
     "metadata": {},
     "output_type": "execute_result"
    }
   ],
   "source": [
    "data.loc[~negs_mask, 'wait_time'].value_counts(bins=23).sort_index()"
   ]
  },
  {
   "cell_type": "code",
   "execution_count": 166,
   "metadata": {},
   "outputs": [
    {
     "data": {
      "text/plain": [
       "count    547.000000\n",
       "mean      10.377806\n",
       "std        4.771044\n",
       "min        0.340000\n",
       "25%        6.845000\n",
       "50%       10.360000\n",
       "75%       13.420000\n",
       "max       26.980000\n",
       "Name: wait_time, dtype: float64"
      ]
     },
     "execution_count": 166,
     "metadata": {},
     "output_type": "execute_result"
    }
   ],
   "source": [
    "data.loc[~negs_mask, 'wait_time'].describe()"
   ]
  },
  {
   "cell_type": "code",
   "execution_count": 41,
   "metadata": {},
   "outputs": [
    {
     "name": "stdout",
     "output_type": "stream",
     "text": [
      "23.388031127053\n"
     ]
    }
   ],
   "source": [
    "print(np.sqrt(560 - 13))"
   ]
  },
  {
   "cell_type": "code",
   "execution_count": 107,
   "metadata": {},
   "outputs": [
    {
     "data": {
      "image/png": "[encoded data removed]",
      "text/plain": [
       "<Figure size 640x480 with 1 Axes>"
      ]
     },
     "metadata": {},
     "output_type": "display_data"
    }
   ],
   "source": [
    "# data['wait_time'].hist(bins=24)\n",
    "data.loc[~negs_mask, 'wait_time'].hist(bins=23, alpha=0.60)\n",
    "plt.axvline(data.loc[~negs_mask, 'wait_time'].mean(), color=\"red\")\n",
    "plt.show()"
   ]
  },
  {
   "cell_type": "code",
   "execution_count": 160,
   "metadata": {},
   "outputs": [
    {
     "data": {
      "image/png": "[encoded data removed]",
      "text/plain": [
       "<Figure size 640x480 with 1 Axes>"
      ]
     },
     "metadata": {},
     "output_type": "display_data"
    }
   ],
   "source": [
    "(values, bins, _)= plt.hist(\n",
    "    data.loc[~negs_mask, 'wait_time'],\n",
    "    bins=23, \n",
    "    alpha=0.60, \n",
    "    density=True\n",
    "    )\n",
    "\n",
    "sns.kdeplot(\n",
    "    data=data.loc[~negs_mask, 'wait_time'],\n",
    "    bw_adjust=1.276,\n",
    ")\n",
    "plt.show()"
   ]
  },
  {
   "cell_type": "code",
   "execution_count": 161,
   "metadata": {},
   "outputs": [
    {
     "data": {
      "text/plain": [
       "array([ 0.34      ,  1.49826087,  2.65652174,  3.81478261,  4.97304348,\n",
       "        6.13130435,  7.28956522,  8.44782609,  9.60608696, 10.76434783,\n",
       "       11.9226087 , 13.08086957, 14.23913043, 15.3973913 , 16.55565217,\n",
       "       17.71391304, 18.87217391, 20.03043478, 21.18869565, 22.34695652,\n",
       "       23.50521739, 24.66347826, 25.82173913, 26.98      ])"
      ]
     },
     "execution_count": 161,
     "metadata": {},
     "output_type": "execute_result"
    }
   ],
   "source": [
    "bins"
   ]
  },
  {
   "cell_type": "code",
   "execution_count": 163,
   "metadata": {},
   "outputs": [
    {
     "data": {
      "text/plain": [
       "24"
      ]
     },
     "execution_count": 163,
     "metadata": {},
     "output_type": "execute_result"
    }
   ],
   "source": [
    "bins.size"
   ]
  },
  {
   "cell_type": "code",
   "execution_count": 167,
   "metadata": {},
   "outputs": [
    {
     "data": {
      "text/plain": [
       "array([ 1.49826087,  2.65652174,  3.81478261,  4.97304348,  6.13130435,\n",
       "        7.28956522,  8.44782609,  9.60608696, 10.76434783, 11.9226087 ,\n",
       "       13.08086957, 14.23913043, 15.3973913 , 16.55565217, 17.71391304,\n",
       "       18.87217391, 20.03043478, 21.18869565, 22.34695652, 23.50521739,\n",
       "       24.66347826, 25.82173913, 26.98      ])"
      ]
     },
     "execution_count": 167,
     "metadata": {},
     "output_type": "execute_result"
    }
   ],
   "source": [
    "bins[1:]"
   ]
  },
  {
   "cell_type": "code",
   "execution_count": 168,
   "metadata": {},
   "outputs": [
    {
     "data": {
      "text/plain": [
       "array([ 0.34      ,  1.49826087,  2.65652174,  3.81478261,  4.97304348,\n",
       "        6.13130435,  7.28956522,  8.44782609,  9.60608696, 10.76434783,\n",
       "       11.9226087 , 13.08086957, 14.23913043, 15.3973913 , 16.55565217,\n",
       "       17.71391304, 18.87217391, 20.03043478, 21.18869565, 22.34695652,\n",
       "       23.50521739, 24.66347826, 25.82173913])"
      ]
     },
     "execution_count": 168,
     "metadata": {},
     "output_type": "execute_result"
    }
   ],
   "source": [
    "bins[:-1]"
   ]
  },
  {
   "cell_type": "code",
   "execution_count": 151,
   "metadata": {},
   "outputs": [
    {
     "data": {
      "text/plain": [
       "array([ 0.91913043,  2.0773913 ,  3.23565217,  4.39391304,  5.55217391,\n",
       "        6.71043478,  7.86869565,  9.02695652, 10.18521739, 11.34347826,\n",
       "       12.50173913, 13.66      , 14.81826087, 15.97652174, 17.13478261,\n",
       "       18.29304348, 19.45130435, 20.60956522, 21.76782609, 22.92608696,\n",
       "       24.08434783, 25.2426087 , 26.40086957])"
      ]
     },
     "execution_count": 151,
     "metadata": {},
     "output_type": "execute_result"
    }
   ],
   "source": [
    "bin_centers = (bins[:-1] + bins[1:]) / 2\n",
    "bin_centers"
   ]
  },
  {
   "cell_type": "code",
   "execution_count": 169,
   "metadata": {},
   "outputs": [
    {
     "data": {
      "text/plain": [
       "23"
      ]
     },
     "execution_count": 169,
     "metadata": {},
     "output_type": "execute_result"
    }
   ],
   "source": [
    "bin_centers.size"
   ]
  },
  {
   "cell_type": "code",
   "execution_count": 154,
   "metadata": {},
   "outputs": [],
   "source": [
    "pdf = norm.pdf(\n",
    "    bin_centers,\n",
    "    loc=data.loc[~negs_mask, 'wait_time'].mean(),\n",
    "    scale=data.loc[~negs_mask, 'wait_time'].std(),\n",
    "    )"
   ]
  },
  {
   "cell_type": "code",
   "execution_count": 155,
   "metadata": {},
   "outputs": [
    {
     "data": {
      "text/plain": [
       "array([0.01171728, 0.01840992, 0.02726975, 0.03808154, 0.05013626,\n",
       "       0.0622291 , 0.07281807, 0.08033207, 0.0835493 , 0.08192205,\n",
       "       0.07572912, 0.06599775, 0.05422498, 0.04200238, 0.03067273,\n",
       "       0.02111714, 0.01370635, 0.00838712, 0.00483846, 0.00263152,\n",
       "       0.0013493 , 0.00065225, 0.00029725])"
      ]
     },
     "execution_count": 155,
     "metadata": {},
     "output_type": "execute_result"
    }
   ],
   "source": [
    "pdf"
   ]
  },
  {
   "cell_type": "code",
   "execution_count": 172,
   "metadata": {},
   "outputs": [
    {
     "data": {
      "text/plain": [
       "array([0.01479581, 0.02257179, 0.03246365, 0.04401824, 0.05626939,\n",
       "       0.06781345, 0.07704839, 0.08253067, 0.08334342, 0.07934716,\n",
       "       0.07121894, 0.06026481, 0.04807686, 0.03615868, 0.02563853,\n",
       "       0.0171387 , 0.01080107, 0.00641741, 0.00359465, 0.00189827,\n",
       "       0.00094507, 0.00044358, 0.00019628])"
      ]
     },
     "execution_count": 172,
     "metadata": {},
     "output_type": "execute_result"
    }
   ],
   "source": [
    "pdf2 = norm.pdf(\n",
    "    bins[1:],\n",
    "    loc=data.loc[~negs_mask, 'wait_time'].mean(),\n",
    "    scale=data.loc[~negs_mask, 'wait_time'].std(),\n",
    "    )\n",
    "\n",
    "pdf2"
   ]
  },
  {
   "cell_type": "code",
   "execution_count": 171,
   "metadata": {},
   "outputs": [
    {
     "data": {
      "image/png": "[encoded data removed]",
      "text/plain": [
       "<Figure size 640x480 with 1 Axes>"
      ]
     },
     "metadata": {},
     "output_type": "display_data"
    }
   ],
   "source": [
    "data.loc[~negs_mask, 'wait_time'].hist(bins=23, alpha=0.60, density=True)\n",
    "plt.plot(bin_centers, pdf, label='PDF', color='k')\n",
    "plt.show()"
   ]
  },
  {
   "cell_type": "code",
   "execution_count": 123,
   "metadata": {},
   "outputs": [
    {
     "data": {
      "image/png": "[encoded data removed]",
      "text/plain": [
       "<Figure size 640x480 with 1 Axes>"
      ]
     },
     "metadata": {},
     "output_type": "display_data"
    }
   ],
   "source": [
    "\n",
    "sns.kdeplot(\n",
    "    data=data.loc[~negs_mask, 'wait_time'],\n",
    "    bw_adjust=1.26,\n",
    ")\n",
    "values, bins, ignored = data.loc[~negs_mask, 'wait_time'].hist(bins=23, alpha=0.60, density=True)\n",
    "plt.show()"
   ]
  },
  {
   "cell_type": "code",
   "execution_count": 42,
   "metadata": {},
   "outputs": [
    {
     "data": {
      "text/plain": [
       "count    547.000000\n",
       "mean      10.377806\n",
       "std        4.771044\n",
       "min        0.340000\n",
       "25%        6.845000\n",
       "50%       10.360000\n",
       "75%       13.420000\n",
       "max       26.980000\n",
       "Name: wait_time, dtype: float64"
      ]
     },
     "execution_count": 42,
     "metadata": {},
     "output_type": "execute_result"
    }
   ],
   "source": [
    "data.loc[~negs_mask, 'wait_time'].describe()"
   ]
  },
  {
   "cell_type": "code",
   "execution_count": 63,
   "metadata": {},
   "outputs": [
    {
     "data": {
      "text/plain": [
       "(0.312, 1.498]      12\n",
       "(1.498, 2.657]      17\n",
       "(2.657, 3.815]      20\n",
       "(3.815, 4.973]      27\n",
       "(4.973, 6.131]      35\n",
       "(6.131, 7.29]       38\n",
       "(7.29, 8.448]       42\n",
       "(8.448, 9.606]      52\n",
       "(9.606, 10.764]     48\n",
       "(10.764, 11.923]    44\n",
       "(11.923, 13.081]    62\n",
       "(13.081, 14.239]    41\n",
       "(14.239, 15.397]    34\n",
       "(15.397, 16.556]    19\n",
       "(16.556, 17.714]    18\n",
       "(17.714, 18.872]    16\n",
       "(18.872, 20.03]     10\n",
       "(20.03, 21.189]      4\n",
       "(21.189, 22.347]     4\n",
       "(22.347, 23.505]     1\n",
       "(23.505, 24.663]     2\n",
       "(24.663, 25.822]     0\n",
       "(25.822, 26.98]      1\n",
       "Name: wait_time, dtype: int64"
      ]
     },
     "execution_count": 63,
     "metadata": {},
     "output_type": "execute_result"
    }
   ],
   "source": [
    "wait_positives = data.loc[~negs_mask, 'wait_time'].value_counts(bins=23).sort_index()\n",
    "wait_positives"
   ]
  }
 ],
 "metadata": {
  "kernelspec": {
   "display_name": "data",
   "language": "python",
   "name": "data"
  },
  "language_info": {
   "codemirror_mode": {
    "name": "ipython",
    "version": 3
   },
   "file_extension": ".py",
   "mimetype": "text/x-python",
   "name": "python",
   "nbconvert_exporter": "python",
   "pygments_lexer": "ipython3",
   "version": "3.10.9"
  }
 },
 "nbformat": 4,
 "nbformat_minor": 2
}
